{
  "nbformat": 4,
  "nbformat_minor": 0,
  "metadata": {
    "colab": {
      "name": "PassingYearbooks.ipynb",
      "provenance": [],
      "authorship_tag": "ABX9TyPI0m+YFIh2xbCLC+pfV2Vg",
      "include_colab_link": true
    },
    "kernelspec": {
      "name": "python3",
      "display_name": "Python 3"
    },
    "language_info": {
      "name": "python"
    }
  },
  "cells": [
    {
      "cell_type": "markdown",
      "metadata": {
        "id": "view-in-github",
        "colab_type": "text"
      },
      "source": [
        "<a href=\"https://colab.research.google.com/github/Sairam14/ProblemSolving-Python/blob/main/PassingYearbooks.ipynb\" target=\"_parent\"><img src=\"https://colab.research.google.com/assets/colab-badge.svg\" alt=\"Open In Colab\"/></a>"
      ]
    },
    {
      "cell_type": "code",
      "execution_count": null,
      "metadata": {
        "id": "FQvLnoua7iyD"
      },
      "outputs": [],
      "source": [
        "def findSignatureCounts(arr):\n",
        "  \n",
        "\n",
        "arr = [2,1]\n",
        "print(findSignatureCounts(arr))"
      ]
    }
  ]
}