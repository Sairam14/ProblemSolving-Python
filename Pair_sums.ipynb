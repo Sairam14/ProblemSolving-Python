{
  "nbformat": 4,
  "nbformat_minor": 0,
  "metadata": {
    "colab": {
      "name": "Pair sums.ipynb",
      "provenance": [],
      "authorship_tag": "ABX9TyOP9Ms6A7cUk/v3xXNYkW0z",
      "include_colab_link": true
    },
    "kernelspec": {
      "name": "python3",
      "display_name": "Python 3"
    },
    "language_info": {
      "name": "python"
    }
  },
  "cells": [
    {
      "cell_type": "markdown",
      "metadata": {
        "id": "view-in-github",
        "colab_type": "text"
      },
      "source": [
        "<a href=\"https://colab.research.google.com/github/Sairam14/ProblemSolving-Python/blob/main/Pair_sums.ipynb\" target=\"_parent\"><img src=\"https://colab.research.google.com/assets/colab-badge.svg\" alt=\"Open In Colab\"/></a>"
      ]
    },
    {
      "cell_type": "code",
      "execution_count": 10,
      "metadata": {
        "colab": {
          "base_uri": "https://localhost:8080/"
        },
        "id": "uM5Jy2CocjCO",
        "outputId": "500bd1df-07e8-4e71-ba16-c6224b9a2961"
      },
      "outputs": [
        {
          "output_type": "stream",
          "name": "stdout",
          "text": [
            "4\n"
          ]
        }
      ],
      "source": [
        "from typing import List\n",
        "def pairSums(k: int, n: int, arr: List[int]) -> int:\n",
        "  # Write your code here\n",
        "  pairSumCount = 0\n",
        "  sum = 0\n",
        "  size = len(arr)\n",
        "  \n",
        "  for i in range(0, size):\n",
        "    j = i + 1\n",
        "    while j < size:\n",
        "      if (arr[i] + arr[j] == k):\n",
        "        pairSumCount = pairSumCount + 1\n",
        "      j = j + 1\n",
        "    \n",
        "  return pairSumCount\n",
        "\n",
        "n = 5\n",
        "k = 6\n",
        "arr = [1, 5, 3, 3, 3]\n",
        "print(pairSums(6, 5, arr))"
      ]
    }
  ]
}