{
  "nbformat": 4,
  "nbformat_minor": 0,
  "metadata": {
    "colab": {
      "name": "Pair sums.ipynb",
      "provenance": [],
      "authorship_tag": "ABX9TyPW5IBypdEXTccrUpD1tdR4",
      "include_colab_link": true
    },
    "kernelspec": {
      "name": "python3",
      "display_name": "Python 3"
    },
    "language_info": {
      "name": "python"
    }
  },
  "cells": [
    {
      "cell_type": "markdown",
      "metadata": {
        "id": "view-in-github",
        "colab_type": "text"
      },
      "source": [
        "<a href=\"https://colab.research.google.com/github/Sairam14/ProblemSolving-Python/blob/main/Pair_sums.ipynb\" target=\"_parent\"><img src=\"https://colab.research.google.com/assets/colab-badge.svg\" alt=\"Open In Colab\"/></a>"
      ]
    },
    {
      "cell_type": "code",
      "execution_count": 3,
      "metadata": {
        "colab": {
          "base_uri": "https://localhost:8080/"
        },
        "id": "uM5Jy2CocjCO",
        "outputId": "f113e865-5f84-4d6f-8f39-7e49bf20db32"
      },
      "outputs": [
        {
          "output_type": "stream",
          "name": "stdout",
          "text": [
            "4\n"
          ]
        }
      ],
      "source": [
        "from typing import List\n",
        "def pairSums(k: int, n: int, arr: List[int]) -> int:\n",
        "  # Write your code here\n",
        "  pairSumCount = 0\n",
        "  sum = 0\n",
        "  size = len(arr)\n",
        "  \n",
        "  for i in range(0, size):\n",
        "    j = i + 1\n",
        "    while j < size:\n",
        "      if (arr[i] + arr[j] == k):\n",
        "        pairSumCount = pairSumCount + 1\n",
        "      j = j + 1\n",
        "    \n",
        "  return pairSumCount\n",
        "\n",
        "n = 5\n",
        "k = 6\n",
        "arr = [1, 5, 3, 3, 3]\n",
        "print(pairSums(6, 5, arr))"
      ]
    },
    {
      "cell_type": "code",
      "source": [
        "from typing import List\n",
        "def pairSums(k: int, n: int, arr: List[int]) -> int:\n",
        "  arr.sort()\n",
        "  low = 0\n",
        "  high = len(arr) - 1\n",
        "  pairSumCount = 0\n",
        "\n",
        "  while (low < high):\n",
        "    if (arr[low] + arr[high] == k):\n",
        "      pairSumCount += 1\n",
        "    \n",
        "    if (arr[low] + arr[high] > k):\n",
        "      high = high - 1\n",
        "    else:\n",
        "      low = low + 1\n",
        "\n",
        "  return pairSumCount\n",
        "\n",
        "n = 5\n",
        "k = 6\n",
        "arr = [1, 2, 3, 4, 3]\n",
        "print(pairSums(6, 5, arr))\n"
      ],
      "metadata": {
        "colab": {
          "base_uri": "https://localhost:8080/"
        },
        "id": "PhGUL4gXfibu",
        "outputId": "65634a88-cea3-4e45-ea9d-6679cc04134b"
      },
      "execution_count": 16,
      "outputs": [
        {
          "output_type": "stream",
          "name": "stdout",
          "text": [
            "2\n"
          ]
        }
      ]
    }
  ]
}