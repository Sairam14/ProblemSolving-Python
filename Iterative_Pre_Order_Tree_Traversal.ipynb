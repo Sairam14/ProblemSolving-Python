{
  "nbformat": 4,
  "nbformat_minor": 0,
  "metadata": {
    "colab": {
      "name": "Iterative Pre Order Tree Traversal.ipynb",
      "provenance": [],
      "authorship_tag": "ABX9TyNWSI+iOB5Q+240XEKbWnBu",
      "include_colab_link": true
    },
    "kernelspec": {
      "name": "python3",
      "display_name": "Python 3"
    },
    "language_info": {
      "name": "python"
    }
  },
  "cells": [
    {
      "cell_type": "markdown",
      "metadata": {
        "id": "view-in-github",
        "colab_type": "text"
      },
      "source": [
        "<a href=\"https://colab.research.google.com/github/Sairam14/ProblemSolving-Python/blob/main/Iterative_Pre_Order_Tree_Traversal.ipynb\" target=\"_parent\"><img src=\"https://colab.research.google.com/assets/colab-badge.svg\" alt=\"Open In Colab\"/></a>"
      ]
    },
    {
      "cell_type": "code",
      "execution_count": 1,
      "metadata": {
        "id": "tFvdtJcu-DvT"
      },
      "outputs": [],
      "source": [
        "class Node:\n",
        "  def __init__(self, data):\n",
        "    self.data = data\n",
        "    self.left = None\n",
        "    self.right = None\n",
        "  "
      ]
    },
    {
      "cell_type": "code",
      "source": [
        "def iterativePreOrder(root):\n",
        "  if root is None:\n",
        "    return\n",
        "\n",
        "  nodeStack = []\n",
        "  nodeStack.append(root)\n",
        "\n",
        "  while(len(nodeStack) > 0):\n",
        "    node = nodeStack.pop()\n",
        "\n",
        "    print(node.data, end=\" \")\n",
        "\n",
        "    if (node.right is not None):\n",
        "      nodeStack.append(node.right)\n",
        "    if (node.left is not None):\n",
        "      nodeStack.append(node.left)\n"
      ],
      "metadata": {
        "id": "SSXfEc9k-Rqw"
      },
      "execution_count": 4,
      "outputs": []
    },
    {
      "cell_type": "code",
      "source": [
        "root = Node(10)\n",
        "root.left = Node(8)\n",
        "root.right = Node(2)\n",
        "root.left.left = Node(3)\n",
        "root.left.right = Node(5)\n",
        "root.right.left = Node(2)\n",
        "\n",
        "iterativePreOrder(root)"
      ],
      "metadata": {
        "colab": {
          "base_uri": "https://localhost:8080/"
        },
        "id": "WGUljmGb-e9_",
        "outputId": "b84744b4-271a-4baf-85c7-9b89d4baa42f"
      },
      "execution_count": 5,
      "outputs": [
        {
          "output_type": "stream",
          "name": "stdout",
          "text": [
            "10 8 3 5 2 2 "
          ]
        }
      ]
    }
  ]
}