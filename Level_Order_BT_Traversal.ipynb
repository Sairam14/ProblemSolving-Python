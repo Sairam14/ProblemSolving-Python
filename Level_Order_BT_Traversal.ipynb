{
  "nbformat": 4,
  "nbformat_minor": 0,
  "metadata": {
    "colab": {
      "name": "Level Order BT Traversal.ipynb",
      "provenance": [],
      "authorship_tag": "ABX9TyOy7XxrRXSiOGM04YTr+Q2h",
      "include_colab_link": true
    },
    "kernelspec": {
      "name": "python3",
      "display_name": "Python 3"
    },
    "language_info": {
      "name": "python"
    }
  },
  "cells": [
    {
      "cell_type": "markdown",
      "metadata": {
        "id": "view-in-github",
        "colab_type": "text"
      },
      "source": [
        "<a href=\"https://colab.research.google.com/github/Sairam14/ProblemSolving-Python/blob/main/Level_Order_BT_Traversal.ipynb\" target=\"_parent\"><img src=\"https://colab.research.google.com/assets/colab-badge.svg\" alt=\"Open In Colab\"/></a>"
      ]
    },
    {
      "cell_type": "code",
      "execution_count": 1,
      "metadata": {
        "id": "-vsSg6NSBbGP"
      },
      "outputs": [],
      "source": [
        "class Node:\n",
        "  def __init__(self, key):\n",
        "    self.data = key\n",
        "    self.left = None\n",
        "    self.right = None"
      ]
    },
    {
      "cell_type": "code",
      "source": [
        "def printLevelOrder(root):\n",
        "  h = height(root)\n",
        "  \n",
        "  for i in range(1, h+1):\n",
        "    printCurrentLevel(root, i)"
      ],
      "metadata": {
        "id": "5A4-dbiOB_8y"
      },
      "execution_count": 8,
      "outputs": []
    },
    {
      "cell_type": "code",
      "source": [
        "def printCurrentLevel(root, level):\n",
        "  if root is None:\n",
        "    return\n",
        "  if level == 1:\n",
        "    print(root.data, end=\" \")\n",
        "  elif level > 1:\n",
        "    printCurrentLevel(root.left, level-1)\n",
        "    # printCurrentLevel(root.right, level-1)"
      ],
      "metadata": {
        "id": "R8iwldqICM2k"
      },
      "execution_count": 19,
      "outputs": []
    },
    {
      "cell_type": "code",
      "source": [
        "def height(node):\n",
        "  if node is None:\n",
        "    return 0\n",
        "  else:\n",
        "    lheight = height(node.left)\n",
        "    rheight = height(node.right)\n",
        "\n",
        "  # print(lheight, rheight)\n",
        "\n",
        "  if lheight > rheight:\n",
        "    return lheight + 1\n",
        "  else:\n",
        "    return rheight + 1\n",
        "\n"
      ],
      "metadata": {
        "id": "VWn8Blu0CoEa"
      },
      "execution_count": 17,
      "outputs": []
    },
    {
      "cell_type": "code",
      "source": [
        "root = Node(1)\n",
        "root.left = Node(2)\n",
        "root.right = Node(3)\n",
        "root.left.left = Node(4)\n",
        "root.left.right = Node(5)\n",
        "\n",
        "printLevelOrder(root)"
      ],
      "metadata": {
        "colab": {
          "base_uri": "https://localhost:8080/"
        },
        "id": "IiW7q1ByDvOO",
        "outputId": "6f315842-c91d-4699-bf45-ae9a746b0ccb"
      },
      "execution_count": 18,
      "outputs": [
        {
          "output_type": "stream",
          "name": "stdout",
          "text": [
            "1 2 3 4 5 "
          ]
        }
      ]
    }
  ]
}