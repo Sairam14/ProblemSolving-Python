{
  "nbformat": 4,
  "nbformat_minor": 0,
  "metadata": {
    "colab": {
      "name": "Rotating Cipher.ipynb",
      "provenance": [],
      "collapsed_sections": [],
      "authorship_tag": "ABX9TyPNYuaUdds90TTSJ40ItX25",
      "include_colab_link": true
    },
    "kernelspec": {
      "name": "python3",
      "display_name": "Python 3"
    },
    "language_info": {
      "name": "python"
    }
  },
  "cells": [
    {
      "cell_type": "markdown",
      "metadata": {
        "id": "view-in-github",
        "colab_type": "text"
      },
      "source": [
        "<a href=\"https://colab.research.google.com/github/Sairam14/ProblemSolving-Python/blob/main/Rotating_Cipher.ipynb\" target=\"_parent\"><img src=\"https://colab.research.google.com/assets/colab-badge.svg\" alt=\"Open In Colab\"/></a>"
      ]
    },
    {
      "cell_type": "code",
      "execution_count": 157,
      "metadata": {
        "id": "hJe64CRPZK4Y"
      },
      "outputs": [],
      "source": [
        "import enum\n",
        "\n",
        "class characterType(enum.Enum):\n",
        "  digit = 1\n",
        "  smallcasealpha = 2\n",
        "  uppercasealpha = 3\n",
        "  others = 4\n",
        "\n",
        "NUMBERSTART = 47\n",
        "NUMBEREND = 57\n",
        "ALPHASTART = 64\n",
        "ALPHAEND = 90\n",
        "ALPHASMALLSTART = 96\n",
        "ALPHASMALLEND = 122"
      ]
    },
    {
      "cell_type": "code",
      "source": [
        "def getCharacterType(element, asciivalue):\n",
        "  if (element.isdigit()):\n",
        "    return characterType.digit\n",
        "  elif(element.isalpha()):\n",
        "    if (asciivalue >= 97 and asciivalue <= 122):\n",
        "      return characterType.smallcasealpha\n",
        "    else:\n",
        "      return characterType.uppercasealpha\n",
        "  else:\n",
        "    return characterType.others\n",
        "    "
      ],
      "metadata": {
        "id": "VVWOAGxfZfaK"
      },
      "execution_count": 158,
      "outputs": []
    },
    {
      "cell_type": "code",
      "source": [
        "def getASCIIRange(value):\n",
        "   if value == characterType.digit:\n",
        "      return NUMBERSTART, NUMBEREND\n",
        "   elif value == characterType.smallcasealpha:\n",
        "      return ALPHASMALLSTART,ALPHASMALLEND\n",
        "   elif value == characterType.uppercasealpha:\n",
        "      return ALPHASTART, ALPHAEND\n",
        "   else:\n",
        "      return 0, 0"
      ],
      "metadata": {
        "id": "hridzMAyAh9h"
      },
      "execution_count": 159,
      "outputs": []
    },
    {
      "cell_type": "code",
      "source": [
        "input = \"999\"\n",
        "rotatingfactor = 200\n",
        "output = \"\""
      ],
      "metadata": {
        "id": "8uVm-2PZaJ3_"
      },
      "execution_count": 160,
      "outputs": []
    },
    {
      "cell_type": "code",
      "source": [
        "for element in input:\n",
        "  asciivalue = ord(element)\n",
        "  value = getCharacterType(element, asciivalue)\n",
        "  x, y = getASCIIRange(value)\n",
        "  print(rotatingfactor, y-x)\n",
        "  \n",
        "  if ((y-x) > 0 and rotatingfactor > (y-x)):\n",
        "    rotatingfactor = rotatingfactor % (y-x)\n",
        "   \n",
        "\n",
        "  if (value != characterType.others):\n",
        "    newasciivalue = asciivalue + rotatingfactor\n",
        "  else:\n",
        "    newasciivalue = asciivalue\n",
        "\n",
        "  offset = newasciivalue - y\n",
        "  if (offset <= 0):\n",
        "    output += chr(newasciivalue)\n",
        "  else:\n",
        "    output += chr(x + offset)\n",
        "\n"
      ],
      "metadata": {
        "colab": {
          "base_uri": "https://localhost:8080/"
        },
        "id": "UbGk7xJdvI2H",
        "outputId": "6c790dcf-8538-4e60-972d-c23edf8a3ee4"
      },
      "execution_count": 161,
      "outputs": [
        {
          "output_type": "stream",
          "name": "stdout",
          "text": [
            "200 10\n",
            "0 10\n",
            "0 10\n"
          ]
        }
      ]
    },
    {
      "cell_type": "code",
      "source": [
        "print(output)"
      ],
      "metadata": {
        "colab": {
          "base_uri": "https://localhost:8080/"
        },
        "id": "twOndUtUw5W7",
        "outputId": "6ef3038e-1745-41d8-e054-51257d44c16e"
      },
      "execution_count": 162,
      "outputs": [
        {
          "output_type": "stream",
          "name": "stdout",
          "text": [
            "999\n"
          ]
        }
      ]
    }
  ]
}