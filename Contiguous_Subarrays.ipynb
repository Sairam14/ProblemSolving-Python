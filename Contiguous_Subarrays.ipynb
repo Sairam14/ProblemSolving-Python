{
  "nbformat": 4,
  "nbformat_minor": 0,
  "metadata": {
    "colab": {
      "name": "Contiguous  Subarrays.ipynb",
      "provenance": [],
      "authorship_tag": "ABX9TyNZQ/mgQTZ8Th8meJOCUXid",
      "include_colab_link": true
    },
    "kernelspec": {
      "name": "python3",
      "display_name": "Python 3"
    },
    "language_info": {
      "name": "python"
    }
  },
  "cells": [
    {
      "cell_type": "markdown",
      "metadata": {
        "id": "view-in-github",
        "colab_type": "text"
      },
      "source": [
        "<a href=\"https://colab.research.google.com/github/Sairam14/ProblemSolving-Python/blob/main/Contiguous_Subarrays.ipynb\" target=\"_parent\"><img src=\"https://colab.research.google.com/assets/colab-badge.svg\" alt=\"Open In Colab\"/></a>"
      ]
    },
    {
      "cell_type": "code",
      "execution_count": 3,
      "metadata": {
        "id": "F-rZkw-B4KhJ"
      },
      "outputs": [],
      "source": [
        "input = [3,4,1,6,2]"
      ]
    },
    {
      "cell_type": "code",
      "source": [
        "def count_subarrays(input):\n",
        "  \n",
        "  index = 1\n",
        "  for element in input:\n",
        "    j = 0\n",
        "\n",
        "    contiguousArr = []\n",
        "    if element < input[index]:\n",
        "      contiguousArr.append(element)\n",
        "      index = index + 1\n",
        "      print(contiguousArr)\n",
        "      continue\n",
        "\n",
        "    while  element > input[index] and index < len(input)-1:\n",
        "      subarr = [element, input[index]]\n",
        "      index = index + 1\n",
        "      contiguousArr.append(subarr)\n",
        "\n",
        "    print(contiguousArr , index, input[index], len(input))   \n",
        "    \n",
        "    \n",
        "\n"
      ],
      "metadata": {
        "id": "MuAg4R005WOH"
      },
      "execution_count": 26,
      "outputs": []
    },
    {
      "cell_type": "code",
      "source": [
        "count_subarrays(input)"
      ],
      "metadata": {
        "colab": {
          "base_uri": "https://localhost:8080/"
        },
        "id": "kR-P4FIhfoJ2",
        "outputId": "3bff6729-b3d6-4931-9780-3ca90d549216"
      },
      "execution_count": 27,
      "outputs": [
        {
          "output_type": "stream",
          "name": "stdout",
          "text": [
            "[3]\n",
            "[[4, 1]] 3 6 5\n",
            "[1]\n",
            "[] 4 2 5\n",
            "[] 4 2 5\n"
          ]
        }
      ]
    }
  ]
}