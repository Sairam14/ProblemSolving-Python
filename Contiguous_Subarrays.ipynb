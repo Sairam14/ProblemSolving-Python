{
  "cells": [
    {
      "cell_type": "markdown",
      "metadata": {
        "id": "view-in-github",
        "colab_type": "text"
      },
      "source": [
        "<a href=\"https://colab.research.google.com/github/Sairam14/ProblemSolving-Python/blob/main/Contiguous_Subarrays.ipynb\" target=\"_parent\"><img src=\"https://colab.research.google.com/assets/colab-badge.svg\" alt=\"Open In Colab\"/></a>"
      ]
    },
    {
      "cell_type": "code",
      "execution_count": 13,
      "metadata": {
        "id": "F-rZkw-B4KhJ"
      },
      "outputs": [],
      "source": [
        "input = [3, 4, 1, 6, 2] # [2, 4, 7, 1, 5, 3] "
      ]
    },
    {
      "cell_type": "code",
      "source": [
        "def backtrack(key, prevElementSubArray, currentElement, prevElement, currentElementSubArray):\n",
        "  if (key > currentElement):\n",
        "    return 0\n",
        "\n",
        "  for element in prevElementSubArray:\n",
        "    elementCopy = element.copy()\n",
        "    if prevElement not in element:\n",
        "      elementCopy.append(prevElement)\n",
        "    \n",
        "    elementCopy.append(currentElement)\n",
        "    if elementCopy not in currentElementSubArray:\n",
        "      currentElementSubArray.append(elementCopy)\n",
        "  \n",
        "  return 1"
      ],
      "metadata": {
        "id": "-tFzA18kBijJ"
      },
      "execution_count": 158,
      "outputs": []
    },
    {
      "cell_type": "code",
      "source": [
        "def count_subarrays(input):\n",
        "\n",
        "  size = len(input)\n",
        "  hashTable = {}\n",
        "  for i in range(0, size):\n",
        "    subArray = []\n",
        "    currentElement = input[i]\n",
        "    subArray.append([currentElement])\n",
        "    hashTable[input[i]] = subArray\n",
        "\n",
        "    if i == 0 or i == size:\n",
        "      continue\n",
        "    \n",
        "    j = 1\n",
        "    if (i + j < size):\n",
        "      nextElement = input[i+j]\n",
        "    \n",
        "    prevElement = input[i-j]\n",
        "\n",
        "    if (currentElement > prevElement):\n",
        "      subArray.append([prevElement, currentElement])\n",
        "      k = i - 1\n",
        "      while k > 0:\n",
        "        if input[k] in hashTable: \n",
        "          if backtrack(input[k], hashTable[input[k]], currentElement, prevElement, subArray) == 0:\n",
        "            break\n",
        "          k = k - 1\n",
        "\n",
        "    if (currentElement > nextElement):\n",
        "      incremenetalSubArray = [currentElement, nextElement]\n",
        "      subArray.append(incremenetalSubArray)\n",
        "      k = i + j + 1\n",
        "      prevSubArray = incremenetalSubArray.copy()\n",
        "      while k < size:\n",
        "        nextElement = input[k]\n",
        "        if (currentElement > nextElement):\n",
        "          prevSubArray.append(nextElement)\n",
        "          subArray.append(prevSubArray)\n",
        "          prevSubArray = prevSubArray.copy()\n",
        "        else:\n",
        "          break\n",
        "        k = k + 1\n",
        "\n",
        "  result = []\n",
        "  for key in hashTable:\n",
        "      result.append(len(hashTable[key]))\n",
        "  return result\n",
        "\n",
        "input =   [3, 4, 1, 6, 2] # [1, 2, 6, 1, 3, 1] [2, 4, 7, 1, 5, 3] #\n",
        "print(\"Contiguous sub array\", count_subarrays(input))\n"
      ],
      "metadata": {
        "colab": {
          "base_uri": "https://localhost:8080/"
        },
        "id": "sPWIe17ZmVdR",
        "outputId": "6088666a-47dc-4675-c442-11e2b66d4408"
      },
      "execution_count": 173,
      "outputs": [
        {
          "output_type": "stream",
          "name": "stdout",
          "text": [
            "Contiguous sub array [1, 3, 1, 5, 1]\n"
          ]
        }
      ]
    }
  ],
  "metadata": {
    "colab": {
      "collapsed_sections": [],
      "name": "Contiguous  Subarrays.ipynb",
      "provenance": [],
      "authorship_tag": "ABX9TyOQSPZZwIDErjEWZzx2uJDz",
      "include_colab_link": true
    },
    "kernelspec": {
      "display_name": "Python 3",
      "name": "python3"
    },
    "language_info": {
      "name": "python"
    }
  },
  "nbformat": 4,
  "nbformat_minor": 0
}