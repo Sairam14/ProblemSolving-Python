{
  "nbformat": 4,
  "nbformat_minor": 0,
  "metadata": {
    "colab": {
      "name": "ReverseToMakeEqual.ipynb",
      "provenance": [],
      "authorship_tag": "ABX9TyN7aMW+lwACRWtvwtk/fdJb",
      "include_colab_link": true
    },
    "kernelspec": {
      "name": "python3",
      "display_name": "Python 3"
    },
    "language_info": {
      "name": "python"
    }
  },
  "cells": [
    {
      "cell_type": "markdown",
      "metadata": {
        "id": "view-in-github",
        "colab_type": "text"
      },
      "source": [
        "<a href=\"https://colab.research.google.com/github/Sairam14/ProblemSolving-Python/blob/main/ReverseToMakeEqual.ipynb\" target=\"_parent\"><img src=\"https://colab.research.google.com/assets/colab-badge.svg\" alt=\"Open In Colab\"/></a>"
      ]
    },
    {
      "cell_type": "code",
      "execution_count": 21,
      "metadata": {
        "colab": {
          "base_uri": "https://localhost:8080/"
        },
        "id": "gcKOwACVnu89",
        "outputId": "fa25a862-365a-4b54-fc15-2e299a90687f"
      },
      "outputs": [
        {
          "output_type": "stream",
          "name": "stdout",
          "text": [
            "{1: [2, 0, 0], 2: [2, 1, 4], 4: [2, 3, 1], 3: [2, 2, 2], 9: [2, 4, 3]}\n",
            "True\n"
          ]
        }
      ],
      "source": [
        "def are_they_equal(array_a, array_b):\n",
        "  # Write your code here\n",
        "  aLength = len(array_a)\n",
        "  bLength = len(array_b)\n",
        "  \n",
        "  if aLength != bLength:\n",
        "    return False\n",
        "  \n",
        "  hashTable = {}\n",
        "  \n",
        "  for i in range(0, aLength):\n",
        "    if array_a[i] not in hashTable:\n",
        "      hashTable[array_a[i]] = [1, i, 0]\n",
        "    else:\n",
        "      hashTable[array_a[i]][0] += 1 \n",
        "      hashTable[array_a[i]][1] = i\n",
        "\n",
        "    if array_b[i] not in hashTable:\n",
        "      hashTable[array_b[i]] = [1, 0, i]\n",
        "    else:\n",
        "      hashTable[array_b[i]][0] += 1 \n",
        "      hashTable[array_b[i]][2] = i\n",
        "  print(hashTable)\n",
        "  for key in hashTable:\n",
        "    value = hashTable[key]\n",
        "    if (value[1] != value[2] and value[0] % 2 == 0):\n",
        "      array_b[value[1]] = key\n",
        "\n",
        "  return array_a == array_b\n",
        "\n",
        "array_a = [1, 2, 3, 4, 9]\n",
        "array_b = [1, 4, 3, 9, 2]\n",
        "print(are_they_equal(array_a, array_b))"
      ]
    }
  ]
}