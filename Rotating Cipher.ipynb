{
  "nbformat": 4,
  "nbformat_minor": 0,
  "metadata": {
    "colab": {
      "name": "Untitled1.ipynb",
      "provenance": [],
      "collapsed_sections": [],
      "authorship_tag": "ABX9TyOvPrNzMkVFE3dIst8XOyyd",
      "include_colab_link": true
    },
    "kernelspec": {
      "name": "python3",
      "display_name": "Python 3"
    },
    "language_info": {
      "name": "python"
    }
  },
  "cells": [
    {
      "cell_type": "markdown",
      "metadata": {
        "id": "view-in-github",
        "colab_type": "text"
      },
      "source": [
        "<a href=\"https://colab.research.google.com/github/Sairam14/ProblemSolving-Python/blob/main/Rotating%20Cipher.ipynb\" target=\"_parent\"><img src=\"https://colab.research.google.com/assets/colab-badge.svg\" alt=\"Open In Colab\"/></a>"
      ]
    },
    {
      "cell_type": "code",
      "execution_count": 23,
      "metadata": {
        "id": "hJe64CRPZK4Y"
      },
      "outputs": [],
      "source": [
        "import enum\n",
        "\n",
        "class characterType(enum.Enum):\n",
        "  digit = 1\n",
        "  smallcasealpha = 2\n",
        "  uppercasealpha = 3\n",
        "  others = 4\n",
        "\n",
        "NUMBERSTART = 48\n",
        "NUMBEREND = 57\n",
        "ALPHASTART = 65\n",
        "ALPHAEND = 90\n",
        "ALPHASMALLSTART = 97\n",
        "ALPHASMALLEND = 122"
      ]
    },
    {
      "cell_type": "code",
      "source": [
        "def getCharacterType(element, asciivalue):\n",
        "  if (element.isdigit()):\n",
        "    return characterType.digit\n",
        "  elif(element.isalpha()):\n",
        "    if (asciivalue >= 97 and asciivalue <= 122):\n",
        "      return characterType.smallcasealpha\n",
        "    else:\n",
        "      return characterType.uppercasealpha\n",
        "  else:\n",
        "    return characterType.others\n",
        "    "
      ],
      "metadata": {
        "id": "VVWOAGxfZfaK"
      },
      "execution_count": 34,
      "outputs": []
    },
    {
      "cell_type": "code",
      "source": [
        "def getASCIIRange(value):\n",
        "   if value == characterType.digit:\n",
        "      return NUMBERSTART, NUMBEREND\n",
        "   elif value == characterType.smallcasealpha:\n",
        "      return ALPHASMALLSTART,ALPHASMALLEND\n",
        "   elif value == characterType.uppercasealpha:\n",
        "      return ALPHASTART, ALPHAEND\n",
        "   else:\n",
        "      return 0, 0"
      ],
      "metadata": {
        "id": "hridzMAyAh9h"
      },
      "execution_count": 30,
      "outputs": []
    },
    {
      "cell_type": "code",
      "source": [
        "input = \"1239Za-\"\n",
        "rotatingfactor = 3\n",
        "output = \"\""
      ],
      "metadata": {
        "id": "8uVm-2PZaJ3_"
      },
      "execution_count": 54,
      "outputs": []
    },
    {
      "cell_type": "code",
      "source": [
        "for element in input:\n",
        "  asciivalue = ord(element)\n",
        "  value = getCharacterType(element, asciivalue)\n",
        "  x, y = getASCIIRange(value)\n",
        "  if (value != characterType.others):\n",
        "    newasciivalue = asciivalue + rotatingfactor\n",
        "  else:\n",
        "    newasciivalue = asciivalue\n",
        "  offset = newasciivalue - y\n",
        "  if (offset < 0):\n",
        "    output += chr(newasciivalue)\n",
        "  else:\n",
        "    output += chr(x + offset)\n",
        "\n"
      ],
      "metadata": {
        "id": "UbGk7xJdvI2H"
      },
      "execution_count": 55,
      "outputs": []
    },
    {
      "cell_type": "code",
      "source": [
        "print(output)"
      ],
      "metadata": {
        "colab": {
          "base_uri": "https://localhost:8080/"
        },
        "id": "twOndUtUw5W7",
        "outputId": "b99f6f82-8169-4fa2-9e9c-aec4c6ba93ff"
      },
      "execution_count": 56,
      "outputs": [
        {
          "output_type": "stream",
          "name": "stdout",
          "text": [
            "4563Dd-\n"
          ]
        }
      ]
    }
  ]
}