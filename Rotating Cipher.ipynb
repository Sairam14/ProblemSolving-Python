{
  "nbformat": 4,
  "nbformat_minor": 0,
  "metadata": {
    "colab": {
      "name": "Untitled1.ipynb",
      "provenance": [],
      "authorship_tag": "ABX9TyPn3GgQfUBx94SXU5rrj8lx",
      "include_colab_link": true
    },
    "kernelspec": {
      "name": "python3",
      "display_name": "Python 3"
    },
    "language_info": {
      "name": "python"
    }
  },
  "cells": [
    {
      "cell_type": "markdown",
      "metadata": {
        "id": "view-in-github",
        "colab_type": "text"
      },
      "source": [
        "<a href=\"https://colab.research.google.com/github/Sairam14/ProblemSolving-Python/blob/main/Rotating%20Cipher.ipynb\" target=\"_parent\"><img src=\"https://colab.research.google.com/assets/colab-badge.svg\" alt=\"Open In Colab\"/></a>"
      ]
    },
    {
      "cell_type": "code",
      "execution_count": 1,
      "metadata": {
        "id": "hJe64CRPZK4Y"
      },
      "outputs": [],
      "source": [
        "import enum\n",
        "\n",
        "class characterType(enum.Enum):\n",
        "  digit = 1\n",
        "  smallcasealpha = 2\n",
        "  uppercasealpha = 3\n",
        "  others = 4"
      ]
    },
    {
      "cell_type": "code",
      "source": [
        "def getCharacterType(element):\n",
        "  if (element.isdigit):\n",
        "    return characterType.digit\n",
        "  elif(element.isalpha):\n",
        "    asciivalue = ord(element)\n",
        "    if (asciivalue >= 97 and asciivalue <= 122):\n",
        "      return characterType.smallcasealpha\n",
        "    else:\n",
        "      return characterType\n",
        "    "
      ],
      "metadata": {
        "id": "VVWOAGxfZfaK"
      },
      "execution_count": 5,
      "outputs": []
    },
    {
      "cell_type": "code",
      "source": [
        "getCha"
      ],
      "metadata": {
        "id": "8uVm-2PZaJ3_"
      },
      "execution_count": null,
      "outputs": []
    }
  ]
}