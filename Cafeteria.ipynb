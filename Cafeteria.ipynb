{
  "nbformat": 4,
  "nbformat_minor": 0,
  "metadata": {
    "colab": {
      "name": "Cafeteria.ipynb",
      "provenance": [],
      "authorship_tag": "ABX9TyMzDgA/KVDUuOmo+9Otj4yG",
      "include_colab_link": true
    },
    "kernelspec": {
      "name": "python3",
      "display_name": "Python 3"
    },
    "language_info": {
      "name": "python"
    }
  },
  "cells": [
    {
      "cell_type": "markdown",
      "metadata": {
        "id": "view-in-github",
        "colab_type": "text"
      },
      "source": [
        "<a href=\"https://colab.research.google.com/github/Sairam14/ProblemSolving-Python/blob/main/Cafeteria.ipynb\" target=\"_parent\"><img src=\"https://colab.research.google.com/assets/colab-badge.svg\" alt=\"Open In Colab\"/></a>"
      ]
    },
    {
      "cell_type": "code",
      "execution_count": 7,
      "metadata": {
        "id": "DHjqPJrSDNkn"
      },
      "outputs": [],
      "source": [
        "from typing import List\n",
        "import math"
      ]
    },
    {
      "cell_type": "code",
      "source": [
        "def getMaximimumDiners(N: int, K: int,M: int, S: List[int]) -> int:\n",
        "    S.sort()\n",
        "    start, diners = 1, 0\n",
        "    S.append(N+K+1)\n",
        "    for s in S:\n",
        "        delta = s-K-start\n",
        "        if delta > 0: \n",
        "            diners += math.ceil(delta / (K+1))\n",
        "        start = s+K+1\n",
        "    return diners"
      ],
      "metadata": {
        "id": "n_Z7e_gmDX7W"
      },
      "execution_count": 25,
      "outputs": []
    },
    {
      "cell_type": "code",
      "source": [
        "N = 15\n",
        "K = 2\n",
        "M = 3\n",
        "S = [11, 6, 14]\n",
        "print(getMaximimumDiners(N, K, M, S))"
      ],
      "metadata": {
        "colab": {
          "base_uri": "https://localhost:8080/"
        },
        "id": "4n_fV4C4FqKS",
        "outputId": "7945b101-5533-429c-cbb7-b5eb062b6d1f"
      },
      "execution_count": 26,
      "outputs": [
        {
          "output_type": "stream",
          "name": "stdout",
          "text": [
            "1\n"
          ]
        }
      ]
    }
  ]
}