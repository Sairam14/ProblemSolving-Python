{
  "nbformat": 4,
  "nbformat_minor": 0,
  "metadata": {
    "colab": {
      "name": "Battleship.ipynb",
      "provenance": [],
      "authorship_tag": "ABX9TyN5iPp5ux5VU5yX+wKU7rE6",
      "include_colab_link": true
    },
    "kernelspec": {
      "name": "python3",
      "display_name": "Python 3"
    },
    "language_info": {
      "name": "python"
    }
  },
  "cells": [
    {
      "cell_type": "markdown",
      "metadata": {
        "id": "view-in-github",
        "colab_type": "text"
      },
      "source": [
        "<a href=\"https://colab.research.google.com/github/Sairam14/ProblemSolving-Python/blob/main/Battleship.ipynb\" target=\"_parent\"><img src=\"https://colab.research.google.com/assets/colab-badge.svg\" alt=\"Open In Colab\"/></a>"
      ]
    },
    {
      "cell_type": "code",
      "execution_count": 2,
      "metadata": {
        "id": "i5h-efnZa6FW"
      },
      "outputs": [],
      "source": [
        "from typing import List\n"
      ]
    },
    {
      "cell_type": "code",
      "source": [
        "def getHitProbability(R: int, C: int, G: List[List[int]]) -> float:\n",
        "  counter = 0\n",
        "  for i in range(len(G)):\n",
        "    for j in range(len(G[i])):\n",
        "      if (G[i][j] == 1):\n",
        "        counter = counter + 1\n",
        "\n",
        "  return counter / (R * C)"
      ],
      "metadata": {
        "id": "hRHFEAovbD9H"
      },
      "execution_count": 16,
      "outputs": []
    },
    {
      "cell_type": "code",
      "source": [
        "R, C = (3,2)\n",
        "G = [[0 for i in range(C)] for j in range(R)]\n",
        "H = [[0,0,1],[1,0,1]]\n",
        "print(getHitProbability(R,C,H))\n",
        "print(H)"
      ],
      "metadata": {
        "colab": {
          "base_uri": "https://localhost:8080/"
        },
        "id": "3fYo0j8ccEnB",
        "outputId": "e57ed890-f2a1-4b91-9a3a-e1682f20c661"
      },
      "execution_count": 17,
      "outputs": [
        {
          "output_type": "stream",
          "name": "stdout",
          "text": [
            "0.5\n",
            "[[0, 0, 1], [1, 0, 1]]\n"
          ]
        }
      ]
    }
  ]
}